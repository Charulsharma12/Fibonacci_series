{
  "cells": [
    {
      "cell_type": "code",
      "execution_count": 3,
      "metadata": {
        "trusted": true
      },
      "outputs": [],
      "source": [
        "#Write a Fibonacci series between 0 to 50:\n",
        "    \n",
        "#The value of function at any n is represented as: F(n) = F(n-1) + F(n-2) with initial conditions F(0) = 0 & F(1) = 1:\n",
        "\n",
        "n = 50 \n",
        "\n",
        "series_1 = 0 \n",
        "series_2 = 1 \n",
        "\n",
        "if n == 2:\n",
        "    print(series_1)\n",
        "    print(series_2)\n",
        "else:\n",
        "    print(series_1)\n",
        "    print(series_2)\n",
        "    for i in range(n-2):\n",
        "        next_series = series_1 + series_2\n",
        "        print(next_series)\n",
        "        series_1 = series_2\n",
        "        series_2 = next_series\n",
        "        \n",
        "\n",
        "\n"
      ]
    },
    {
      "cell_type": "code",
      "execution_count": null,
      "metadata": {},
      "outputs": [],
      "source": []
    },
    {
      "cell_type": "raw",
      "metadata": {},
      "source": []
    }
  ],
  "metadata": {
    "kernelspec": {
      "display_name": "Python (Pyodide)",
      "language": "python",
      "name": "python"
    },
    "language_info": {
      "codemirror_mode": {
        "name": "python",
        "version": 3
      },
      "file_extension": ".py",
      "mimetype": "text/x-python",
      "name": "python",
      "nbconvert_exporter": "python",
      "pygments_lexer": "ipython3",
      "version": "3.8"
    }
  },
  "nbformat": 4,
  "nbformat_minor": 4
}
